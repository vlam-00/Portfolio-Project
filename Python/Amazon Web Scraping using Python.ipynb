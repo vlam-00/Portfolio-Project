{
 "cells": [
  {
   "cell_type": "code",
   "execution_count": 1,
   "id": "b1fe1fb8-5bb7-46b9-9752-5edcec36a77d",
   "metadata": {},
   "outputs": [],
   "source": [
    "# Import libraries\n",
    "from bs4 import BeautifulSoup\n",
    "import requests\n",
    "import time\n",
    "import datetime\n",
    "\n",
    "import smtplib"
   ]
  },
  {
   "cell_type": "code",
   "execution_count": 2,
   "id": "b30e3a74-d9ff-4137-b98c-894ae15a56fe",
   "metadata": {},
   "outputs": [
    {
     "name": "stdout",
     "output_type": "stream",
     "text": [
      "\n",
      "                  Let's Look At Data - Data Science Statistics Data Analyst T-Shirt\n",
      "                 \n",
      "\n",
      "\n",
      "\n",
      "\n",
      "                    $16.99 with 15 percent savings\n",
      "                   \n",
      "\n",
      "                    -15%\n",
      "                   \n",
      "\n",
      "\n",
      "\n",
      "\n",
      "\n",
      "                      $\n",
      "                     \n",
      "\n",
      "                      16\n",
      "                      \n",
      "                       .\n",
      "                      \n",
      "\n",
      "\n",
      "                      99\n",
      "                     \n",
      "\n",
      "\n",
      "\n",
      "\n",
      "\n",
      "\n",
      "\n",
      "\n",
      "\n",
      "                      List Price: $19.99\n",
      "                     \n",
      "\n",
      "                      List Price:\n",
      "                      \n",
      "\n",
      "                        $19.99\n",
      "                       \n",
      "\n",
      "                        $19.99\n",
      "                       \n",
      "\n",
      "\n",
      "\n",
      "\n",
      "\n",
      "\n",
      "\n",
      "\n",
      "\n",
      "\n",
      "\n",
      "\n",
      "                        The List Price is the suggested retail price of a new product as provided by a manufacturer, supplier, or seller. Except for books, Amazon will display a List Price if the product was purchased by customers on Amazon or offered by other retailers at or above the List Price in at least the past 90 days. List prices may not necessarily reflect the product's prevailing market price.\n",
      "                        \n",
      "\n",
      "                          Learn more\n",
      "                         \n",
      "\n",
      "\n",
      "\n",
      "\n",
      "\n",
      "\n",
      "\n",
      "\n"
     ]
    }
   ],
   "source": [
    "# Connect to website\n",
    "URL = 'https://www.amazon.com/dp/B09BSGKCSL/ref=sspa_dk_detail_3?psc=1&pd_rd_i=B09BSGKCSL&pd_rd_w=aJMHt&content-id=amzn1.sym.7446a9d1-25fe-4460-b135-a60336bad2c9&pf_rd_p=7446a9d1-25fe-4460-b135-a60336bad2c9&pf_rd_r=RYDF2YXJFYDVD1DQVEPG&pd_rd_wg=XvoOj&pd_rd_r=b27778a0-f302-45b6-bfa8-e86b7ee935f0&sp_csd=d2lkZ2V0TmFtZT1zcF9kZXRhaWw'\n",
    "headers = {\"User-Agent\": \"Mozilla/5.0 (Windows NT 10.0; Win64; x64) AppleWebKit/537.36 (KHTML, like Gecko) Chrome/138.0.0.0 Safari/537.36\", \"Accept-Encoding\":\"gzip, deflate\", \"Accept\":\"text/html,application/xhtml+xml,application/xml;q=0.9,*/*;q=0.8\", \"DNT\":\"1\",\"Connection\":\"close\", \"Upgrade-Insecure-Requests\":\"1\"}\n",
    "page = requests.get(URL, headers=headers)\n",
    "\n",
    "soup1 = BeautifulSoup(page.content, \"html.parser\")\n",
    "soup2 = BeautifulSoup(soup1.prettify(), \"html.parser\")\n",
    "\n",
    "title = soup2.find(id='productTitle').get_text()\n",
    "#price = soup2.find(id='corePrice_feature_div').get_text()\n",
    "price = soup2.find(id='corePriceDisplay_desktop_feature_div').get_text()\n",
    "\n",
    "print(title)\n",
    "print(price)\n"
   ]
  },
  {
   "cell_type": "code",
   "execution_count": 3,
   "id": "5073bd6b-79c8-42f6-a25f-33d599880288",
   "metadata": {
    "editable": true,
    "slideshow": {
     "slide_type": ""
    },
    "tags": []
   },
   "outputs": [
    {
     "name": "stdout",
     "output_type": "stream",
     "text": [
      "Let's Look At Data - Data Science Statistics Data Analyst T-Shirt\n",
      "16.99\n"
     ]
    }
   ],
   "source": [
    "# Clean the output data\n",
    "title = title.strip()\n",
    "price = price.strip()[1:6]\n",
    "price = float(price)\n",
    "\n",
    "print(title)\n",
    "print(price)"
   ]
  },
  {
   "cell_type": "code",
   "execution_count": 4,
   "id": "a3794e08-1691-4563-b1ca-8c5da8ebe049",
   "metadata": {},
   "outputs": [
    {
     "name": "stdout",
     "output_type": "stream",
     "text": [
      "2025-07-10\n"
     ]
    }
   ],
   "source": [
    "# Add a timestamp on when the data was created\n",
    "data_date = datetime.date.today()\n",
    "print(data_date)"
   ]
  },
  {
   "cell_type": "code",
   "execution_count": 5,
   "id": "0985b8f7-fe99-4fb6-a442-9294b3b73f30",
   "metadata": {},
   "outputs": [],
   "source": [
    "# Use data to create a CSV file\n",
    "import csv\n",
    "\n",
    "header = ['Date', 'Title', 'Price']\n",
    "data = [data_date, title, price]\n",
    "\n",
    "with open('Amazon Web Scraping - Data.csv', 'w', newline='', encoding='UTF8') as f:\n",
    "    writer = csv.writer(f)\n",
    "    writer.writerow(header)\n",
    "    writer.writerow(data)\n"
   ]
  },
  {
   "cell_type": "code",
   "execution_count": 6,
   "id": "ab8b03d0-4ad2-4fee-b398-ea75adbed732",
   "metadata": {},
   "outputs": [
    {
     "name": "stdout",
     "output_type": "stream",
     "text": [
      "         Date                                              Title  Price\n",
      "0  2025-07-10  Let's Look At Data - Data Science Statistics D...  16.99\n"
     ]
    }
   ],
   "source": [
    "# Creating a dataframe to view the newly created CSV file\n",
    "import pandas as pd\n",
    "\n",
    "df = pd.read_csv(r'Amazon Web Scraping - Data.csv')\n",
    "print(df)"
   ]
  },
  {
   "cell_type": "code",
   "execution_count": 7,
   "id": "0bebb2b7-f85a-44bd-a12d-69303be80cb6",
   "metadata": {},
   "outputs": [],
   "source": [
    "# Append new data to the CSV\n",
    "with open('Amazon Web Scraping - Data.csv', 'a+', newline='', encoding='UTF8') as f:\n",
    "    writer = csv.writer(f)\n",
    "    writer.writerow(data)\n"
   ]
  },
  {
   "cell_type": "code",
   "execution_count": 8,
   "id": "33087063-95c1-47c9-b13b-06bbad15a0a0",
   "metadata": {},
   "outputs": [],
   "source": [
    "# Sends an email when the price drops below a certain level\n",
    "def send_mail():\n",
    "    server = smtplib.SMTP_SSL('smtp.gmail.com', 465)\n",
    "    server.ehlo()\n",
    "#    server.starttls()\n",
    "    server.ehlo()\n",
    "    server.login('vincentxlam@googlemail.com', 'xxxxxxxxxxxxxx')\n",
    "\n",
    "    subject = \"The shirt you want is below $15! Now is your chance to buy!\"\n",
    "    body = \"Vincent, This is the moment we have been waiting for. Now is your chance to pick up the shirt of your dreams. Don't mess it up! Link here: https://www.amazon.com/dp/B09BSGKCSL/ref=sspa_dk_detail_3?psc=1&pd_rd_i=B09BSGKCSL&pd_rd_w=aJMHt&content-id=amzn1.sym.7446a9d1-25fe-4460-b135-a60336bad2c9&pf_rd_p=7446a9d1-25fe-4460-b135-a60336bad2c9&pf_rd_r=RYDF2YXJFYDVD1DQVEPG&pd_rd_wg=XvoOj&pd_rd_r=b27778a0-f302-45b6-bfa8-e86b7ee935f0&sp_csd=d2lkZ2V0TmFtZT1zcF9kZXRhaWw\"\n",
    "\n",
    "    msg = f\"Subject: {subject}\\n\\n{body}\"\n",
    "\n",
    "    server.sendmail(\n",
    "        'vincentxlam@googlemail.com',\n",
    "        msg\n",
    "    )\n"
   ]
  },
  {
   "cell_type": "code",
   "execution_count": 9,
   "id": "d0a8d2f0-d751-48c4-84c8-d1567f0cdfbe",
   "metadata": {},
   "outputs": [],
   "source": [
    "# Prepare script for automation\n",
    "def check_price():\n",
    "    URL = 'https://www.amazon.com/dp/B09BSGKCSL/ref=sspa_dk_detail_3?psc=1&pd_rd_i=B09BSGKCSL&pd_rd_w=aJMHt&content-id=amzn1.sym.7446a9d1-25fe-4460-b135-a60336bad2c9&pf_rd_p=7446a9d1-25fe-4460-b135-a60336bad2c9&pf_rd_r=RYDF2YXJFYDVD1DQVEPG&pd_rd_wg=XvoOj&pd_rd_r=b27778a0-f302-45b6-bfa8-e86b7ee935f0&sp_csd=d2lkZ2V0TmFtZT1zcF9kZXRhaWw'\n",
    "    headers = {\"User-Agent\": \"Mozilla/5.0 (Windows NT 10.0; Win64; x64) AppleWebKit/537.36 (KHTML, like Gecko) Chrome/138.0.0.0 Safari/537.36\", \"Accept-Encoding\":\"gzip, deflate\", \"Accept\":\"text/html,application/xhtml+xml,application/xml;q=0.9,*/*;q=0.8\", \"DNT\":\"1\",\"Connection\":\"close\", \"Upgrade-Insecure-Requests\":\"1\"}\n",
    "    page = requests.get(URL, headers=headers)\n",
    "\n",
    "    soup1 = BeautifulSoup(page.content, \"html.parser\")\n",
    "    soup2 = BeautifulSoup(soup1.prettify(), \"html.parser\")\n",
    "\n",
    "    title = soup2.find(id='productTitle').get_text()\n",
    "    price = soup2.find(id='corePriceDisplay_desktop_feature_div').get_text()\n",
    "\n",
    "    title = title.strip()\n",
    "    price = price.strip()[1:6]\n",
    "    data_date = datetime.date.today()\n",
    "\n",
    "    header = ['Date', 'Title', 'Price']\n",
    "    data = [data_date, title, price]\n",
    "\n",
    "    with open('Amazon Web Scraping - Data.csv', 'a+', newline='', encoding='UTF8') as f:\n",
    "        writer = csv.writer(f)\n",
    "        writer.writerow(data)\n",
    "\n",
    "    if(price < 14):\n",
    "        send_mail()\n",
    "    "
   ]
  },
  {
   "cell_type": "code",
   "execution_count": 10,
   "id": "7d1be72d-096b-4c7f-b264-e7243f62d822",
   "metadata": {},
   "outputs": [],
   "source": [
    "# Runs check_price script after a set time and inputs data into the CSV\n",
    "#while(True):\n",
    "#    check_price()\n",
    "#    time.sleep(86400)"
   ]
  },
  {
   "cell_type": "code",
   "execution_count": null,
   "id": "8057a30e-ea89-4a90-90f7-82dacbc79fbf",
   "metadata": {},
   "outputs": [],
   "source": []
  }
 ],
 "metadata": {
  "kernelspec": {
   "display_name": "Python [conda env:base] *",
   "language": "python",
   "name": "conda-base-py"
  },
  "language_info": {
   "codemirror_mode": {
    "name": "ipython",
    "version": 3
   },
   "file_extension": ".py",
   "mimetype": "text/x-python",
   "name": "python",
   "nbconvert_exporter": "python",
   "pygments_lexer": "ipython3",
   "version": "3.13.5"
  }
 },
 "nbformat": 4,
 "nbformat_minor": 5
}
